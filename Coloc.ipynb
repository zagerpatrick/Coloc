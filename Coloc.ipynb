{
 "cells": [
  {
   "cell_type": "code",
   "execution_count": 1,
   "metadata": {},
   "outputs": [
    {
     "name": "stdout",
     "output_type": "stream",
     "text": [
      "[WinError 3] The system cannot find the path specified: 'C:\\\\Users\\\\Patrick_Zager\\\\coloc\\\\data\\\\raw\\\\test'\n",
      "C:\\Users\\paz2009\\CV\\notebooks\n"
     ]
    }
   ],
   "source": [
    "# Set working directory\n",
    "%cd \"C:\\Users\\Patrick_Zager\\coloc\\data\\raw\\test\"\n",
    "\n",
    "# Import packages and modules\n",
    "import glob\n",
    "from tqdm import tqdm\n",
    "import memory_profiler\n",
    "import numpy as np\n",
    "import pandas as pd\n",
    "import scipy as sp\n",
    "import skimage\n",
    "import matplotlib.pyplot as plt\n",
    "\n",
    "import math\n",
    "from numpy import (mean, float_, dot, interp, uint8, uint16, \n",
    "                   uint64, log10, any as np_any, all as np_all)\n",
    "from skimage import io\n",
    "from skimage import filters\n",
    "from skimage.filters import gaussian\n",
    "\n",
    "C1,C2,C3 = 0,1,2\n",
    "channels  = (C1,C2,C3)\n",
    "\n",
    "def imread_rgb(f):\n",
    "    return skimage.io.imread(f)\n",
    "\n",
    "def manders(imagestack):\n",
    "    \n",
    "    fc = {} # Dictionary of fluorescent channels\n",
    "    fc[C1] = imagestack[:,:,:,C1] # Indexing channels of images in image stack\n",
    "    fc[C2] = imagestack[:,:,:,C2]\n",
    "    fc[C3] = imagestack[:,:,:,C3]\n",
    "    \n",
    "    conditional = [] # Pre-define lists\n",
    "    coloc1sums = []\n",
    "    coloc2sums = []\n",
    "    sums = []\n",
    "    \n",
    "    images = np.arange(len(imagestack)) # Evenly spaced array of integers with length equal \n",
    "                                        # to the number of images in the stack\n",
    "    \n",
    "    # Dictionary of functions callable for each channel\n",
    "    for c in range (0, len(channels)): # Creates a boolean array classifying zeros and non-zeros for all channels\n",
    "        cond = dict((i, fc[c][i] > 0) for i in images)\n",
    "        conditional.append(cond)\n",
    "    \n",
    "    for i1, i2 in ((C1,C2), (C2,C3), (C3,C1)): # Array summation of the colocalization term\n",
    "        coloc1 = dict((i, (fc[i1][i][conditional[i2][i]]).sum()) for i in images)\n",
    "        coloc2 = dict((i, (fc[i2][i][conditional[i1][i]]).sum()) for i in images)\n",
    "        coloc1sums.append(coloc1)\n",
    "        coloc2sums.append(coloc2)\n",
    "    \n",
    "    for c in range(0, len(channels)): # Simple array summation of intensity for all channels\n",
    "        summ = dict((i, fc[c][i].sum()) for i in images)\n",
    "        sums.append(summ)\n",
    "    \n",
    "    result = {}\n",
    "    \n",
    "    for i1, i2 in ((C1,C2), (C2,C3), (C3,C1)): # Index through channels for all permutations of size two\n",
    "        \n",
    "        # Sum colocalization and and intensity terms for all images in the stack\n",
    "        m1 = sum(coloc1sums[i1].values()) / sum(sums[i1].values())\n",
    "        m2 = sum(coloc2sums[i1].values()) / sum(sums[i2].values())\n",
    "        \n",
    "        if i1 == 0:\n",
    "            result[\"C1C2\"] = m1\n",
    "            result[\"C2C1\"] = m2\n",
    "        if i1 == 1:\n",
    "            result[\"C2C3\"] = m1\n",
    "            result[\"C3C2\"] = m2\n",
    "        if i1 == 2:\n",
    "            result[\"C3C1\"] = m1\n",
    "            result[\"C1C3\"] = m2\n",
    "    \n",
    "    return result[\"C1C2\"], result[\"C2C1\"], result[\"C2C3\"], result[\"C3C2\"], result[\"C3C1\"], result[\"C1C3\"]\n",
    "\n",
    "def maxers(imagestack):\n",
    "    fc = {} # Dictionary of fluorescent channels\n",
    "    fc[C1] = imagestack[:,:,:,C1] # Indexing channels of images in image stack\n",
    "    fc[C2] = imagestack[:,:,:,C2]\n",
    "    fc[C3] = imagestack[:,:,:,C3]\n",
    "    \n",
    "    maxs = [] # Pre-define list\n",
    "    \n",
    "    images = np.arange(len(imagestack)) # Evenly spaced array of integers with length equal \n",
    "                                        # to the number of images in the stack\n",
    "    \n",
    "    for c in range(0, len(channels)): # Simple array summation of intensity for all channels\n",
    "        maxx = list((fc[c][i].sum()) for i in images)\n",
    "        maxs.append(maxx)\n",
    "        \n",
    "    nmax = np.asarray(maxs) # convert list to numpy array\n",
    "    \n",
    "    result = list((np.argmax(nmax[c])) for c in channels) # Assemble list of indecies of maximum intensity images\n",
    "    \n",
    "    return result\n",
    "\n",
    "%load_ext memory_profiler"
   ]
  },
  {
   "cell_type": "code",
   "execution_count": 2,
   "metadata": {
    "scrolled": false
   },
   "outputs": [],
   "source": [
    "# Read in data from .tif\n",
    "exp_types = ['Exit', 'Return']\n",
    "cond_types = ['CTRL','AKD','BKDD','ABKD']\n",
    "time_types = ['t0', 't5', 't10', 't20', 't30', 't45']\n",
    "\n",
    "data = skimage.io.ImageCollection('*.tif', conserve_memory=True, load_func=imread_rgb)\n",
    "filenames = glob.glob('*.tif')"
   ]
  },
  {
   "cell_type": "code",
   "execution_count": 34,
   "metadata": {
    "scrolled": true
   },
   "outputs": [],
   "source": [
    "stacks = range(len(data))\n",
    "\n",
    "data_blur = (gaussian(data[i]) for i in range(0, len(stacks)))"
   ]
  },
  {
   "cell_type": "code",
   "execution_count": 36,
   "metadata": {},
   "outputs": [
    {
     "name": "stdout",
     "output_type": "stream",
     "text": [
      "Wall time: 52.9 s\n"
     ]
    }
   ],
   "source": [
    "%%time\n",
    "thresh_value = [skimage.filters.threshold_triangle(i[0,:,:,0]) for i in data_blur]"
   ]
  },
  {
   "cell_type": "code",
   "execution_count": null,
   "metadata": {},
   "outputs": [],
   "source": [
    "thresh_list = []\n",
    "\n",
    "for i in range(len(data_blur)):\n",
    "    for c in range(len(channels)):\n",
    "        thresh_value = skimage.filters.threshold_triangle(data_blur[i][thresh_index[i][c],:,:,c])\n",
    "        thresh_list.append(thresh_value)\n",
    "        low_values_flags = data[i][:,:,:,c] < thresh_value\n",
    "        data_blur[i][:,:,:,c][low_values_flags] = 0\n",
    "        \n",
    "thresh_list = [thresh_list[i:i+len(channels)] for i in range(0, len(thresh_list), len(channels))]"
   ]
  },
  {
   "cell_type": "code",
   "execution_count": null,
   "metadata": {},
   "outputs": [],
   "source": [
    "fig, ax = plt.subplots(3, 2, figsize=(18, 24))\n",
    "\n",
    "ax[0, 0].imshow(data_blur[3][thresh_index[3][C1],:,:,C1], cmap='gray')\n",
    "ax[0, 0].set_title('Image')\n",
    "\n",
    "ax[0, 1].hist(data_blur[3][thresh_index[3][C1],:,:,C1].ravel(), bins=256)\n",
    "ax[0, 1].set_title('Histogram')\n",
    "\n",
    "ax[1, 0].imshow(data_blur[3][thresh_index[3][C2],:,:,C2], cmap='gray')\n",
    "ax[1, 0].set_title('Image')\n",
    "\n",
    "ax[1, 1].hist(data_blur[3][thresh_index[3][C2],:,:,C2].ravel(), bins=256)\n",
    "ax[1, 1].set_title('Histogram')\n",
    "\n",
    "ax[2, 0].imshow(data_blur[3][thresh_index[3][C3],:,:,C3], cmap='gray')\n",
    "ax[2, 0].set_title('Image')\n",
    "\n",
    "ax[2, 1].hist(data_blur[3][thresh_index[3][C3],:,:,C3].ravel(), bins=256)\n",
    "ax[2, 1].set_title('Histogram')"
   ]
  },
  {
   "cell_type": "code",
   "execution_count": null,
   "metadata": {},
   "outputs": [],
   "source": [
    "final = list((manders(data[i])) for i in tqdm(stacks))"
   ]
  },
  {
   "cell_type": "code",
   "execution_count": null,
   "metadata": {},
   "outputs": [],
   "source": [
    "export = pd.DataFrame(final)\n",
    "thresholders = pd.DataFrame(thresh_index)\n",
    "filenames = pd.DataFrame(glob.glob('t*.tif'))\n",
    "thresholdering = pd.DataFrame(thresh_list)\n",
    "\n",
    "writer = pd.ExcelWriter('Ctrl_Exit_2.xlsx')\n",
    "export.to_excel(writer, 'Sheet1')\n",
    "thresholders.to_excel(writer, 'Sheet2')\n",
    "filenames.to_excel(writer, 'Sheet3')\n",
    "thresholdering.to_excel(writer, 'Sheet4')\n",
    "writer.save()"
   ]
  }
 ],
 "metadata": {
  "kernelspec": {
   "display_name": "Python 3",
   "language": "python",
   "name": "python3"
  },
  "language_info": {
   "codemirror_mode": {
    "name": "ipython",
    "version": 3
   },
   "file_extension": ".py",
   "mimetype": "text/x-python",
   "name": "python",
   "nbconvert_exporter": "python",
   "pygments_lexer": "ipython3",
   "version": "3.7.1"
  }
 },
 "nbformat": 4,
 "nbformat_minor": 2
}
